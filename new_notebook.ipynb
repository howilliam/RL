{
 "cells": [
  {
   "cell_type": "code",
   "execution_count": 2,
   "metadata": {},
   "outputs": [],
   "source": [
    "import numpy as np"
   ]
  },
  {
   "cell_type": "code",
   "execution_count": 4,
   "metadata": {},
   "outputs": [
    {
     "ename": "ModuleNotFoundError",
     "evalue": "No module named 'gym'",
     "output_type": "error",
     "traceback": [
      "\u001b[1;31m---------------------------------------------------------------------------\u001b[0m",
      "\u001b[1;31mModuleNotFoundError\u001b[0m                       Traceback (most recent call last)",
      "Cell \u001b[1;32mIn[4], line 1\u001b[0m\n\u001b[1;32m----> 1\u001b[0m \u001b[38;5;28;01mimport\u001b[39;00m\u001b[38;5;250m \u001b[39m\u001b[38;5;21;01mgym\u001b[39;00m\n\u001b[0;32m      2\u001b[0m \u001b[38;5;28;01mimport\u001b[39;00m\u001b[38;5;250m \u001b[39m\u001b[38;5;21;01mnumpy\u001b[39;00m\u001b[38;5;250m \u001b[39m\u001b[38;5;28;01mas\u001b[39;00m\u001b[38;5;250m \u001b[39m\u001b[38;5;21;01mnp\u001b[39;00m\n\u001b[0;32m      3\u001b[0m \u001b[38;5;28;01mimport\u001b[39;00m\u001b[38;5;250m \u001b[39m\u001b[38;5;21;01mtensorflow\u001b[39;00m\u001b[38;5;250m \u001b[39m\u001b[38;5;28;01mas\u001b[39;00m\u001b[38;5;250m \u001b[39m\u001b[38;5;21;01mtf\u001b[39;00m\n",
      "\u001b[1;31mModuleNotFoundError\u001b[0m: No module named 'gym'"
     ]
    }
   ],
   "source": [
    "import gym\n",
    "import numpy as np\n",
    "import tensorflow as tf\n",
    "from tensorflow.keras import Sequential\n",
    "from tensorflow.keras.layers import Dense\n",
    "import matplotlib.pyplot as plt\n",
    "\n",
    "# Load the environment\n",
    "env = gym.make('CartPole-v1')\n",
    "\n",
    "# Define the neural network\n",
    "def build_model(input_shape, action_space):\n",
    "    model = Sequential([\n",
    "        Dense(24, activation='relu', input_shape=input_shape),\n",
    "        Dense(24, activation='relu'),\n",
    "        Dense(action_space, activation='linear')\n",
    "    ])\n",
    "    model.compile(optimizer='adam', loss='mse')\n",
    "    return model\n",
    "\n",
    "# Hyperparameters\n",
    "episodes = 500\n",
    "gamma = 0.95  # Discount factor\n",
    "epsilon = 1.0  # Exploration rate\n",
    "epsilon_decay = 0.995\n",
    "epsilon_min = 0.01\n",
    "batch_size = 32\n",
    "memory = []\n",
    "\n",
    "# Initialize model\n",
    "input_shape = (env.observation_space.shape[0],)\n",
    "action_space = env.action_space.n\n",
    "model = build_model(input_shape, action_space)\n",
    "\n",
    "# Training loop\n",
    "for episode in range(episodes):\n",
    "    state = env.reset()\n",
    "    state = np.reshape(state, [1, input_shape[0]])\n",
    "    total_reward = 0\n",
    "    \n",
    "    while True:\n",
    "        # Choose action\n",
    "        if np.random.rand() <= epsilon:\n",
    "            action = np.random.choice(action_space)\n",
    "        else:\n",
    "            q_values = model.predict(state, verbose=0)\n",
    "            action = np.argmax(q_values[0])\n",
    "\n",
    "        # Take action\n",
    "        next_state, reward, done, _ = env.step(action)\n",
    "        next_state = np.reshape(next_state, [1, input_shape[0]])\n",
    "        total_reward += reward\n",
    "        \n",
    "        # Store in memory\n",
    "        memory.append((state, action, reward, next_state, done))\n",
    "        state = next_state\n",
    "        \n",
    "        # Train the model\n",
    "        if len(memory) > batch_size:\n",
    "            minibatch = np.random.choice(memory, batch_size, replace=False)\n",
    "            for s, a, r, ns, d in minibatch:\n",
    "                target = r if d else r + gamma * np.max(model.predict(ns, verbose=0))\n",
    "                target_f = model.predict(s, verbose=0)\n",
    "                target_f[0][a] = target\n",
    "                model.fit(s, target_f, epochs=1, verbose=0)\n",
    "        \n",
    "        if done:\n",
    "            print(f\"Episode: {episode}, Total Reward: {total_reward}\")\n",
    "            break\n",
    "\n",
    "    # Decay epsilon\n",
    "    if epsilon > epsilon_min:\n",
    "        epsilon *= epsilon_decay\n",
    "\n",
    "# Visualize results\n",
    "plt.plot(rewards)\n",
    "plt.xlabel('Episodes')\n",
    "plt.ylabel('Total Reward')\n",
    "plt.show()\n"
   ]
  }
 ],
 "metadata": {
  "kernelspec": {
   "display_name": "myvenv",
   "language": "python",
   "name": "python3"
  },
  "language_info": {
   "codemirror_mode": {
    "name": "ipython",
    "version": 3
   },
   "file_extension": ".py",
   "mimetype": "text/x-python",
   "name": "python",
   "nbconvert_exporter": "python",
   "pygments_lexer": "ipython3",
   "version": "3.12.2"
  }
 },
 "nbformat": 4,
 "nbformat_minor": 2
}
